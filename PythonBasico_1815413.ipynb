{
 "cells": [
  {
   "cell_type": "markdown",
   "metadata": {},
   "source": [
    "# Ejercicio 1:\n",
    "Realiza una variable con tu matricula y realiza una secuencia de imprimir con tu nombre y tu matricula concatenados."
   ]
  },
  {
   "cell_type": "code",
   "execution_count": 30,
   "metadata": {},
   "outputs": [
    {
     "name": "stdout",
     "output_type": "stream",
     "text": [
      "Valeria Solis Agundis 1815413\n"
     ]
    }
   ],
   "source": [
    "mat= 1815413\n",
    "print(\"Valeria Solis Agundis\", mat)"
   ]
  },
  {
   "cell_type": "markdown",
   "metadata": {},
   "source": [
    "# Ejercicio 2 \n",
    "Pidiendo el input del usuario pide dos números y crea una pequeña calculadora con los operadores básicos de suma, resta, multiplicación, división, y exponente."
   ]
  },
  {
   "cell_type": "code",
   "execution_count": 117,
   "metadata": {},
   "outputs": [
    {
     "name": "stdout",
     "output_type": "stream",
     "text": [
      "Introduce un número: 5\n",
      "Introduce otro número: 2\n",
      "La suma de es:  7.0\n",
      "La resta es:  3.0\n",
      "La multiplicación es:  10.0\n",
      "La división es:  1.0\n",
      "El exponente es 25.0\n"
     ]
    }
   ],
   "source": [
    "a1 = float(input(\"Introduce un número: \" ))\n",
    "b1= float(input(\"Introduce otro número: \"))\n",
    "suma= a1+b1\n",
    "resta=a1-b1\n",
    "mult= a1*b1\n",
    "div= a1%b1\n",
    "exp=a1**b1\n",
    "\n",
    "print(\"La suma de es: \", suma)\n",
    "print(\"La resta es: \",resta)\n",
    "print(\"La multiplicación es: \",mult)\n",
    "print(\"La división es: \", div)\n",
    "print(\"El exponente es\", exp)\n",
    "\n",
    "                "
   ]
  },
  {
   "cell_type": "markdown",
   "metadata": {},
   "source": [
    "# Ejercicio 3:\n",
    "Con loop while o for, realiza una lista de 10 numeros multiplos de 3, y después realiza una función de loop que sume todos los números dentro del arreglo."
   ]
  },
  {
   "cell_type": "code",
   "execution_count": 110,
   "metadata": {},
   "outputs": [
    {
     "name": "stdout",
     "output_type": "stream",
     "text": [
      "3\n",
      "6\n",
      "9\n",
      "12\n",
      "15\n",
      "18\n",
      "21\n",
      "24\n",
      "27\n",
      "30\n",
      "Suma de los números:  165\n"
     ]
    }
   ],
   "source": [
    "c=0\n",
    "\n",
    "for i in list(range(1,11)):\n",
    "    i=i*3\n",
    "    c=c+i\n",
    "    print(i)\n",
    "print(\"Suma de los números: \",c)"
   ]
  },
  {
   "cell_type": "markdown",
   "metadata": {},
   "source": [
    "# Ejercicio 4\n",
    "Con una función de if else, revisar si un número es par o es impar.\n",
    "\n",
    "Con una función de if else, revisar si un número es primo o no."
   ]
  },
  {
   "cell_type": "code",
   "execution_count": 11,
   "metadata": {},
   "outputs": [
    {
     "name": "stdout",
     "output_type": "stream",
     "text": [
      "El numero 97 es un número impar \n"
     ]
    }
   ],
   "source": [
    "import random as r\n",
    "numero=r.randint(1, 100)\n",
    "\n",
    "if numero%2==0:\n",
    "    print(\"El número\",numero,\"es un número par \")\n",
    "else:\n",
    "    print(\"El numero\",numero,\"es un número impar \")"
   ]
  },
  {
   "cell_type": "code",
   "execution_count": 2,
   "metadata": {},
   "outputs": [
    {
     "name": "stdout",
     "output_type": "stream",
     "text": [
      "El número 46 es un número no primo \n"
     ]
    }
   ],
   "source": [
    "import random as r\n",
    "numerow=r.randint(1,100)\n",
    "\n",
    "if numerow%2==0 or numerow%3==0 or numero%5==0:\n",
    "    print(\"El número\",numerow,\"es un número no primo \")\n",
    "else:\n",
    "    print(\"El numero\",numerow,\"es un número primo \")"
   ]
  },
  {
   "cell_type": "markdown",
   "metadata": {},
   "source": [
    "# Ejercicio 5\n",
    "Utilizando diferentes clases en python, crea una calculadora con los operadores básicos de suma, resta, multiplicación, división, y exponente."
   ]
  },
  {
   "cell_type": "code",
   "execution_count": 118,
   "metadata": {},
   "outputs": [
    {
     "name": "stdout",
     "output_type": "stream",
     "text": [
      "Ingrese Numero\n",
      "5\n",
      "Ingrese Otro Numero\n",
      "2\n",
      "\n",
      "Menu\n",
      "1) Suma\n",
      "2) Resta\n",
      "3) Multiplicacion\n",
      "4) Division\n",
      "5) Exponente\n",
      "6)Salir\n",
      "Selecione Opcion\n",
      "3\n",
      "La Multiplicacion es: 10\n",
      "Selecione Opcion\n",
      "6\n"
     ]
    }
   ],
   "source": [
    "def Menu(): #https://www.lawebdelprogramador.com/codigo/Python/3188-Calculadora.html\n",
    "   \n",
    "    print(  \"\"\"\n",
    "Menu\n",
    "1) Suma\n",
    "2) Resta\n",
    "3) Multiplicacion\n",
    "4) Division\n",
    "5) Exponente\n",
    "6)Salir\"\"\")\n",
    "def Calculadora():\n",
    "    x = int(input(\"Ingrese Numero\\n\"))\n",
    "    y = int(input(\"Ingrese Otro Numero\\n\"))\n",
    "    Menu()\n",
    "    opc = int(input(\"Selecione Opcion\\n\"))\n",
    "    while (opc >0 and opc <6):\n",
    "        \n",
    "        if (opc==1):\n",
    "            print( \"La Suma es:\", x+y)\n",
    "            opc = int(input(\"Selecione Opcion\\n\"))\n",
    "        elif(opc==2):\n",
    "            print (\"La Resta es:\",x-y)\n",
    "            opc = int(input(\"Selecione Opcion\\n\"))\n",
    "        elif(opc==3):\n",
    "            print (\"La Multiplicacion es:\",x*y)\n",
    "            opc = int(input(\"Selecione Opcion\\n\"))\n",
    "        elif(opc==4):\n",
    "            try:\n",
    "              print(\"La Division es:\", x/y)\n",
    "              opc = int(input(\"Selecione Opcion\\n\"))\n",
    "            except ZeroDivisionError:\n",
    "              print(\"No se Permite la Division Entre 0\")\n",
    "              opc = int(input(\"Selecione Opcion\\n\"))\n",
    "        elif(opc==5):\n",
    "            print (\"El exponente es :\",x**y)\n",
    "            opc = int(input(\"Selecione Opcion\\n\"))       \n",
    "Calculadora()\n"
   ]
  },
  {
   "cell_type": "markdown",
   "metadata": {},
   "source": [
    "# Listas\n",
    "Crear una lista con 40 elementos aleatorios enteros."
   ]
  },
  {
   "cell_type": "code",
   "execution_count": 138,
   "metadata": {},
   "outputs": [
    {
     "name": "stdout",
     "output_type": "stream",
     "text": [
      "[86, 11, 52, 100, 89, 26, 52, 70, 23, 29, 37, 12, 44, 41, 51, 11, 60, 48, 39, 61, 20, 30, 16, 45, 88, 99, 92, 27, 46, 80, 29, 23, 86, 8, 71, 67, 73, 7, 57, 60]\n"
     ]
    }
   ],
   "source": [
    "import random as r #https://www.programiz.com/python-programming/methods/list/insert\n",
    "n=40\n",
    "l=[]\n",
    "for i in range(n):\n",
    "    l.insert(i,r.randint(1,100))\n",
    "print(l)"
   ]
  },
  {
   "cell_type": "markdown",
   "metadata": {},
   "source": [
    "Con una funcion (def) crear dos listas nuevas a partir de la lista creada por numeros aleatorios, en la cual en una esten los elementos pares, y en la otra los elementos impares."
   ]
  },
  {
   "cell_type": "code",
   "execution_count": 139,
   "metadata": {
    "scrolled": true
   },
   "outputs": [
    {
     "name": "stdout",
     "output_type": "stream",
     "text": [
      "La lista con los números pares es:  [86, 52, 100, 26, 52, 70, 12, 44, 60, 48, 20, 30, 16, 88, 92, 46, 80, 86, 8, 60]\n",
      "La lista con los números impares es:  [11, 89, 23, 29, 37, 41, 51, 11, 39, 61, 45, 99, 27, 29, 23, 71, 67, 73, 7, 57]\n"
     ]
    }
   ],
   "source": [
    "#https://es.stackoverflow.com/questions/124063/crear-una-lista-de-numeros-aleatorios-en-python\n",
    "l\n",
    "lp=[]\n",
    "lim=[]\n",
    "\n",
    "def par():\n",
    "    l\n",
    "    for i in range(len(l)):\n",
    "        if l[i]%2==0:\n",
    "            lp.insert(i,l[i])\n",
    "            \n",
    "    return lp\n",
    "para=par()\n",
    "\n",
    "\n",
    "def impar():\n",
    "    l\n",
    "    for i in range(len(l)):\n",
    "        if l[i]%2!=0:\n",
    "            lim.insert(i,l[i])\n",
    "            \n",
    "    return lim\n",
    "imp=impar()\n",
    "\n",
    "print(\"La lista con los números pares es: \",para)\n",
    "print(\"La lista con los números impares es: \",imp)      \n",
    "\n",
    "\n"
   ]
  },
  {
   "cell_type": "markdown",
   "metadata": {},
   "source": [
    "Crear dos variables con la longitud de ambas listas nuevas e imprimir las variables"
   ]
  },
  {
   "cell_type": "code",
   "execution_count": 140,
   "metadata": {},
   "outputs": [
    {
     "name": "stdout",
     "output_type": "stream",
     "text": [
      "La longitud de la lista par es:  20\n",
      "La longitud de la lista impar es:  20\n"
     ]
    }
   ],
   "source": [
    "lonpar= len(para)\n",
    "print(\"La longitud de la lista par es: \",lonpar)\n",
    "lonimpar= len(imp)\n",
    "lonimpar\n",
    "print(\"La longitud de la lista impar es: \",lonimpar)"
   ]
  },
  {
   "cell_type": "markdown",
   "metadata": {},
   "source": [
    "Ordenar los elementos de la lista par de mayor a menor, y los de la lista impar de menor a mayor."
   ]
  },
  {
   "cell_type": "code",
   "execution_count": 141,
   "metadata": {},
   "outputs": [
    {
     "name": "stdout",
     "output_type": "stream",
     "text": [
      "Lista par ordenada de mayor a menor [100, 92, 88, 86, 86, 80, 70, 60, 60, 52, 52, 48, 46, 44, 30, 26, 20, 16, 12, 8]\n",
      "Lista par ordenada de menor a menor [7, 11, 11, 23, 23, 27, 29, 29, 37, 39, 41, 45, 51, 57, 61, 67, 71, 73, 89, 99]\n"
     ]
    }
   ],
   "source": [
    "para.sort(reverse=True)\n",
    "print(\"Lista par ordenada de mayor a menor\",para)\n",
    "imp.sort()\n",
    "print(\"Lista par ordenada de menor a menor\",imp)"
   ]
  },
  {
   "cell_type": "markdown",
   "metadata": {},
   "source": [
    "Utilizar al menos cuatro de las funciones de listas en python en la lista original de 40 elementos."
   ]
  },
  {
   "cell_type": "code",
   "execution_count": 147,
   "metadata": {},
   "outputs": [
    {
     "name": "stdout",
     "output_type": "stream",
     "text": [
      "Longitud de la lista:  40\n",
      "Elemento minímo de la lista:  7\n",
      "Elemento máximo  de la lista:  100\n",
      "Suma de los números que conforman la lista:  1966\n"
     ]
    }
   ],
   "source": [
    "print(\"Longitud de la lista: \", len(l))#https://www.google.com/amp/s/likegeeks.com/es/funciones-de-listas-de-python/amp/\n",
    "print(\"Elemento minímo de la lista: \", min(l))\n",
    "print(\"Elemento máximo  de la lista: \", max(l))\n",
    "print(\"Suma de los números que conforman la lista: \", sum(l))\n"
   ]
  },
  {
   "cell_type": "markdown",
   "metadata": {},
   "source": [
    "# Diccionarios"
   ]
  },
  {
   "cell_type": "markdown",
   "metadata": {},
   "source": [
    "Crear un diccionario de 6 personas que conozcas con su primer nombre y su edad."
   ]
  },
  {
   "cell_type": "code",
   "execution_count": 190,
   "metadata": {},
   "outputs": [
    {
     "name": "stdout",
     "output_type": "stream",
     "text": [
      "{'Andrea': 20, 'Lucas': 21, 'Marta': 24, 'Luis': 14, 'Víctor': 38, 'Sofia': 22}\n"
     ]
    }
   ],
   "source": [
    "ddic={'Andrea': 20,'Lucas': 21, 'Marta': 24, 'Luis': 14,'Víctor': 38,'Sofia': 22} #https://entrenamiento-python-basico.readthedocs.io/es/latest/leccion3/tipo_diccionarios.html\n",
    "print(ddic)\n",
    "            "
   ]
  },
  {
   "cell_type": "markdown",
   "metadata": {},
   "source": [
    "Crear una lista con los valores de la edad y reacomodar la lista de menor a mayor valor."
   ]
  },
  {
   "cell_type": "code",
   "execution_count": 191,
   "metadata": {},
   "outputs": [
    {
     "name": "stdout",
     "output_type": "stream",
     "text": [
      "[38, 24, 22, 21, 20, 14]\n"
     ]
    }
   ],
   "source": [
    "listaedad=sorted(ddic.values(), reverse= True)\n",
    "\n",
    "print(listaedad)"
   ]
  },
  {
   "cell_type": "markdown",
   "metadata": {},
   "source": [
    "Usando el diccionario y un loop, imprimir solo los nombres."
   ]
  },
  {
   "cell_type": "code",
   "execution_count": 192,
   "metadata": {},
   "outputs": [
    {
     "name": "stdout",
     "output_type": "stream",
     "text": [
      "Andrea\n",
      "Lucas\n",
      "Marta\n",
      "Luis\n",
      "Víctor\n",
      "Sofia\n"
     ]
    }
   ],
   "source": [
    "for i in ddic:\n",
    "    print(i)"
   ]
  },
  {
   "cell_type": "markdown",
   "metadata": {},
   "source": [
    "Añadir dos personas nuevas a tu diccionario, incluyendo edad"
   ]
  },
  {
   "cell_type": "code",
   "execution_count": 205,
   "metadata": {},
   "outputs": [
    {
     "name": "stdout",
     "output_type": "stream",
     "text": [
      "Lista con las personas añadidas: {'Andrea': 20, 'Lucas': 21, 'Marta': 24, 'Luis': 14, 'Víctor': 38, 'Sofia': 22, 'Fátima': 25, 'Estela': 43}\n"
     ]
    }
   ],
   "source": [
    "ddic={'Andrea': 20,'Lucas': 21, 'Marta': 24, 'Luis': 14,'Víctor': 38,'Sofia': 22}\n",
    "a={'Fátima':25,'Estela':43}\n",
    "ddic.update(a)\n",
    "print(\"Lista con las personas añadidas:\" ,ddic)\n",
    "\n"
   ]
  },
  {
   "cell_type": "markdown",
   "metadata": {},
   "source": [
    "## Sets\n",
    "Crea un set con 100 numeros aleatorios enteros del 1 al 25."
   ]
  },
  {
   "cell_type": "code",
   "execution_count": 218,
   "metadata": {},
   "outputs": [
    {
     "name": "stdout",
     "output_type": "stream",
     "text": [
      "{1, 2, 3, 4, 5, 6, 7, 8, 9, 10, 11, 12, 13, 14, 15, 16, 17, 18, 19, 20, 21, 22, 23, 24, 25}\n"
     ]
    },
    {
     "data": {
      "text/plain": [
       "{1, 2, 3, 4}"
      ]
     },
     "execution_count": 218,
     "metadata": {},
     "output_type": "execute_result"
    }
   ],
   "source": [
    "import random as r\n",
    "n=100\n",
    "se=set()\n",
    "for i in range(n):\n",
    "    se.add(r.randint(1,25))\n",
    "print(se)\n"
   ]
  },
  {
   "cell_type": "markdown",
   "metadata": {},
   "source": [
    "Comprueba la longitud de tu set."
   ]
  },
  {
   "cell_type": "code",
   "execution_count": 221,
   "metadata": {},
   "outputs": [
    {
     "name": "stdout",
     "output_type": "stream",
     "text": [
      "La longitud del set es:  25\n"
     ]
    }
   ],
   "source": [
    "lon=len(se)\n",
    "print(\"La longitud del set es: \",lon )"
   ]
  },
  {
   "cell_type": "markdown",
   "metadata": {},
   "source": [
    "Crea una lista de 5 numeros aleatorios del 1 al 10 y comprueba si cada valor aparece en el set inicial"
   ]
  },
  {
   "cell_type": "code",
   "execution_count": 233,
   "metadata": {},
   "outputs": [
    {
     "name": "stdout",
     "output_type": "stream",
     "text": [
      "Lista Aleatoria nueva:  [10, 10, 9, 10, 7]\n",
      "Lista Original:  {1, 2, 3, 4, 5, 6, 7, 8, 9, 10, 11, 12, 13, 14, 15, 16, 17, 18, 19, 20, 21, 22, 23, 24, 25}\n",
      "El numero aparece en la lista 10\n",
      "El numero aparece en la lista 10\n",
      "El numero aparece en la lista 9\n",
      "El numero aparece en la lista 10\n",
      "El numero aparece en la lista 7\n"
     ]
    }
   ],
   "source": [
    "\n",
    "n=5\n",
    "lan=[]\n",
    "for i in range(n):\n",
    "    lan.insert(i,r.randint(1,10))\n",
    "    \n",
    "print(\"Lista Aleatoria nueva: \",lan)\n",
    "print(\"Lista Original: \",se)\n",
    "\n",
    "\n",
    "for i in lan:\n",
    "    if i in se:\n",
    "        print(\"El numero aparece en la lista\", i)\n"
   ]
  },
  {
   "cell_type": "markdown",
   "metadata": {},
   "source": [
    "# Tuplas"
   ]
  },
  {
   "cell_type": "markdown",
   "metadata": {},
   "source": [
    "Crear una tupla con valores enteros imprimir el primer y ultimo valor."
   ]
  },
  {
   "cell_type": "code",
   "execution_count": 100,
   "metadata": {},
   "outputs": [
    {
     "name": "stdout",
     "output_type": "stream",
     "text": [
      "Tupla:  (1, 2, 3, 5, 6, 7)\n",
      "Último valor:  7\n",
      "Primer vaor:  1\n"
     ]
    }
   ],
   "source": [
    "tupl=(1, 2, 3,5,6,7)\n",
    "print(\"Tupla: \",tupl)\n",
    "print(\"Último valor: \", tupl[len(tupl)-1])\n",
    "print(\"Primer vaor: \",tupl[len(tupl)-len(tupl)])\n"
   ]
  },
  {
   "cell_type": "markdown",
   "metadata": {},
   "source": [
    "Añadir 3 valores de string a la tupla\n"
   ]
  },
  {
   "cell_type": "code",
   "execution_count": 131,
   "metadata": {},
   "outputs": [
    {
     "data": {
      "text/plain": [
       "(1, 2, 3, 5, 6, 7, 'UNO', 'DOS', 'TRES')"
      ]
     },
     "execution_count": 131,
     "metadata": {},
     "output_type": "execute_result"
    }
   ],
   "source": [
    "\n",
    "val1=\"UNO\"\n",
    "val2=\"DOS\"\n",
    "val3=\"TRES\"\n",
    "tupl=(1, 2, 3,5,6,7,val1,val2,val3)\n",
    "tupl\n"
   ]
  },
  {
   "cell_type": "markdown",
   "metadata": {},
   "source": [
    "Verificar si una variable existe dentro de la tupla"
   ]
  },
  {
   "cell_type": "code",
   "execution_count": 154,
   "metadata": {},
   "outputs": [
    {
     "name": "stdout",
     "output_type": "stream",
     "text": [
      "La variable 2 esta dentro de la tupla\n"
     ]
    }
   ],
   "source": [
    "var=2\n",
    "\n",
    "if var in tupl:\n",
    "    print(\"La variable\",var,\"esta dentro de la tupla\")\n",
    "else:\n",
    "    print(\"La variable no esta dentro de la tupla\")"
   ]
  },
  {
   "cell_type": "markdown",
   "metadata": {},
   "source": [
    "Crear una variable flotante, integer, boleana y compleja e imprimir el tipo de variable que es"
   ]
  },
  {
   "cell_type": "code",
   "execution_count": 129,
   "metadata": {},
   "outputs": [
    {
     "name": "stdout",
     "output_type": "stream",
     "text": [
      "La variable 59 es del tipo entero\n",
      "La variable 0.48701122139955677 es del tipo flotante\n",
      "La variable False es del tipo boleana\n",
      "La variable (4+3j) es del tipo compleja\n"
     ]
    }
   ],
   "source": [
    "import random as r\n",
    "a= r.randint(1,100)\n",
    "a\n",
    "b=r.random()\n",
    "b\n",
    "c= bool(0)\n",
    "c\n",
    "d= 4+3j\n",
    "\n",
    "print(\"La variable\" ,a,  \"es del tipo entero\")\n",
    "print(\"La variable\" ,b,  \"es del tipo flotante\")\n",
    "print(\"La variable\" ,c,\"es del tipo boleana\")\n",
    "print(\"La variable\" ,d,  \"es del tipo compleja\")\n"
   ]
  }
 ],
 "metadata": {
  "kernelspec": {
   "display_name": "Python 3",
   "language": "python",
   "name": "python3"
  },
  "language_info": {
   "codemirror_mode": {
    "name": "ipython",
    "version": 3
   },
   "file_extension": ".py",
   "mimetype": "text/x-python",
   "name": "python",
   "nbconvert_exporter": "python",
   "pygments_lexer": "ipython3",
   "version": "3.8.3"
  }
 },
 "nbformat": 4,
 "nbformat_minor": 4
}
